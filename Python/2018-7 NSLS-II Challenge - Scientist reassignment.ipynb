{
 "cells": [
  {
   "cell_type": "markdown",
   "metadata": {},
   "source": [
    "There are N beamlines, and each beamline has 1 lead scientist. In order to promote an exchange of knowledge, it is decided that every lead scientist from each of the N beamlines will be reassigned to a different beamline. They decide to do this as follows: Each of the N lead scientists writes the name of their own beamline on a piece of paper and drops it into a hat. The papers in the hat are then shuffled, and each lead scientist reaches into the hat and randomly draws a beamline. What is the probability that there will be 0 scientists who draw their own beamline from the hat?\n",
    "\n",
    "The input file is a single line containing number of beamlines. The output file should be a single line containing the probability that there will be no scientist who draws their own beamline from the hat.\n",
    "\n",
    "Input Format\n",
    "\n",
    "Number of beamlines\n",
    "\n",
    "Constraints\n",
    "\n",
    "Be precise up to 14 decimal places. N is less than 15.\n",
    "\n",
    "Output Format\n",
    "\n",
    "Probability that 0 scientists draw their own name\n",
    "\n",
    "Sample Input 0\n",
    "\n",
    "2\n",
    "Sample Output 0\n",
    "\n",
    "0.5\n",
    "Sample Input 1\n",
    "\n",
    "3\n",
    "Sample Output 1\n",
    "\n",
    "0.333333333333333\n",
    "Sample Input 2\n",
    "\n",
    "4\n",
    "Sample Output 2\n",
    "\n",
    "0.375"
   ]
  },
  {
   "cell_type": "code",
   "execution_count": 1,
   "metadata": {},
   "outputs": [
    {
     "name": "stdout",
     "output_type": "stream",
     "text": [
      "4\n",
      "0.375\n"
     ]
    }
   ],
   "source": [
    "import math\n",
    "\n",
    "def num(N):\n",
    "    if(N==1):\n",
    "        return 0\n",
    "    if(N==2):\n",
    "        return 1\n",
    "    else:\n",
    "        return (N-1)*(num(N-1) + num(N-2))\n",
    "\n",
    "def p(N):\n",
    "    return num(N)/math.factorial(N)\n",
    "\n",
    "if __name__ == '__main__':\n",
    "    s = input()\n",
    "    s_new = p(int(s))\n",
    "    print(s_new)"
   ]
  },
  {
   "cell_type": "code",
   "execution_count": null,
   "metadata": {},
   "outputs": [],
   "source": []
  }
 ],
 "metadata": {
  "kernelspec": {
   "display_name": "Python 3",
   "language": "python",
   "name": "python3"
  },
  "language_info": {
   "codemirror_mode": {
    "name": "ipython",
    "version": 3
   },
   "file_extension": ".py",
   "mimetype": "text/x-python",
   "name": "python",
   "nbconvert_exporter": "python",
   "pygments_lexer": "ipython3",
   "version": "3.7.2"
  }
 },
 "nbformat": 4,
 "nbformat_minor": 2
}
