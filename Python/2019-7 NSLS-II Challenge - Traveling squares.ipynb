{
 "cells": [
  {
   "cell_type": "markdown",
   "metadata": {},
   "source": [
    "Start with an empty n-by-n grid of squares, and choose any square you want as your starting square. The rules for moving through the grid are:\n",
    "\n",
    "1. You may move exactly three cells horizontally or vertically, or you may move exacty two cells diagonally.\n",
    "2. You are not allowed to visit any cell you already visited.\n",
    "3. You are not allowed to step outside the grid.\n",
    "4. You win if you are able to visit all 25 cells.\n",
    "\n",
    "What is the largest number of squares you can legally visit?\n",
    "\n",
    "Input Format\n",
    "N\n",
    "\n",
    "Constraints\n",
    "N=5\n",
    "\n",
    "Output Format\n",
    "Number of squares visited."
   ]
  },
  {
   "cell_type": "code",
   "execution_count": 2,
   "metadata": {},
   "outputs": [],
   "source": [
    "import math"
   ]
  },
  {
   "cell_type": "code",
   "execution_count": 5,
   "metadata": {},
   "outputs": [],
   "source": [
    "def isSafe(x, y, N, sol):\n",
    "# Determine if the current cell is valid\n",
    "    return (x>=0 and x<N and y>=0 and y<N and sol[x][y] == -1);\n",
    "\n",
    "def countSquares(N, sol):\n",
    "# Count the number of squares in sol\n",
    "    sum = 0;\n",
    "    for i in range(N):\n",
    "        for j in range(N):\n",
    "            sum += 1 if sol[i][j]!=-1 else 0\n",
    "    return sum\n",
    "\n",
    "def max_visitsUtil(x, y, movei, sol, xMove, yMove):\n",
    "    k=0, next_x = 0, next_y = 0, max_squares = 0\n",
    "    if(movei == N*N)\n",
    "        return N*N\n",
    "    \n",
    "    for k in range(6):\n",
    "        next_x = x + xMove[k]\n",
    "        next_y = y + yMove[k]\n",
    "        \n",
    "        if(isSafe(x,y,N,sol)):\n",
    "            sol[next_y][next_x] = movei\n",
    "            if max_visitsUtil(next_x, next_y, movei+1, sol, xMove, yMove):\n",
    "            "
   ]
  },
  {
   "cell_type": "code",
   "execution_count": null,
   "metadata": {},
   "outputs": [],
   "source": [
    "\n",
    "# Complete the function\n",
    "def max_visits(N):\n",
    "    return max_squares"
   ]
  },
  {
   "cell_type": "code",
   "execution_count": null,
   "metadata": {},
   "outputs": [],
   "source": [
    "if __name__ == '__main__':\n",
    "    N = int(input())\n",
    "    print(max_visits(N))"
   ]
  }
 ],
 "metadata": {
  "kernelspec": {
   "display_name": "Python 3",
   "language": "python",
   "name": "python3"
  },
  "language_info": {
   "codemirror_mode": {
    "name": "ipython",
    "version": 3
   },
   "file_extension": ".py",
   "mimetype": "text/x-python",
   "name": "python",
   "nbconvert_exporter": "python",
   "pygments_lexer": "ipython3",
   "version": "3.7.2"
  }
 },
 "nbformat": 4,
 "nbformat_minor": 2
}
