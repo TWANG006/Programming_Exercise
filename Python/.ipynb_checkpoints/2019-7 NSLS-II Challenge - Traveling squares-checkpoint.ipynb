{
 "cells": [
  {
   "cell_type": "markdown",
   "metadata": {},
   "source": [
    "Start with an empty n-by-n grid of squares, and choose any square you want as your starting square. The rules for moving through the grid are:\n",
    "\n",
    "1. You may move exactly three cells horizontally or vertically, or you may move exacty two cells diagonally.\n",
    "2. You are not allowed to visit any cell you already visited.\n",
    "3. You are not allowed to step outside the grid.\n",
    "4. You win if you are able to visit all 25 cells.\n",
    "\n",
    "What is the largest number of squares you can legally visit?\n",
    "\n",
    "Input Format\n",
    "N\n",
    "\n",
    "Constraints\n",
    "N=5\n",
    "\n",
    "Output Format\n",
    "Number of squares visited."
   ]
  },
  {
   "cell_type": "code",
   "execution_count": 2,
   "metadata": {},
   "outputs": [],
   "source": [
    "import math"
   ]
  },
  {
   "cell_type": "code",
   "execution_count": null,
   "metadata": {},
   "outputs": [],
   "source": [
    "def isSafe(x, y, N, sol):\n",
    "# Determine if the current cell is valid\n",
    "    return (x>=0 && x<N && y>=0 && y<N && sol[x][y] == -1);\n",
    "\n",
    "def countSquares(N, sol):\n",
    "# Count the number of squares in sol\n",
    "    sum = 0;\n",
    "    for i in range(N):\n",
    "        for j in range(N):\n",
    "            sum += sol[i][j] ==-1? 0: 1\n",
    "    return sum\n",
    "    \n",
    "# Complete the function\n",
    "def max_visits(N):\n",
    "    return max_squares"
   ]
  },
  {
   "cell_type": "code",
   "execution_count": null,
   "metadata": {},
   "outputs": [],
   "source": [
    "if __name__ == '__main__':\n",
    "    N = int(input())\n",
    "    print(max_visits(N))"
   ]
  }
 ],
 "metadata": {
  "kernelspec": {
   "display_name": "Python 3",
   "language": "python",
   "name": "python3"
  },
  "language_info": {
   "codemirror_mode": {
    "name": "ipython",
    "version": 3
   },
   "file_extension": ".py",
   "mimetype": "text/x-python",
   "name": "python",
   "nbconvert_exporter": "python",
   "pygments_lexer": "ipython3",
   "version": "3.7.2"
  }
 },
 "nbformat": 4,
 "nbformat_minor": 2
}
