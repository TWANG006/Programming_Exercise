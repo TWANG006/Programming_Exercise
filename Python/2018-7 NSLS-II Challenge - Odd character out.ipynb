{
 "cells": [
  {
   "cell_type": "markdown",
   "metadata": {},
   "source": [
    "You are given a string in which every character has a pair, except one character. Output the character without a pair.\n",
    "\n",
    "Input Format\n",
    "\n",
    "abbcbba\n",
    "\n",
    "Constraints\n",
    "\n",
    "input <= 5000 characters. Special characters are possible.\n",
    "\n",
    "Output Format\n",
    "\n",
    "c\n",
    "\n",
    "Sample Input 0\n",
    "\n",
    "abcba\n",
    "Sample Output 0\n",
    "\n",
    "c\n",
    "Sample Input 1\n",
    "\n",
    "abbcccbba\n",
    "Sample Output 1\n",
    "\n",
    "c\n",
    "Sample Input 2\n",
    "\n",
    "12321\n",
    "Sample Output 2\n",
    "\n",
    "3\n",
    "Sample Input 3\n",
    "\n",
    "w('n^wrM=\"VVrMn\"(^'\n",
    "Sample Output 3\n",
    "\n",
    "="
   ]
  },
  {
   "cell_type": "code",
   "execution_count": 2,
   "metadata": {},
   "outputs": [
    {
     "name": "stdout",
     "output_type": "stream",
     "text": [
      "w('n^wrM=\"VVrMn\"(^'\n",
      "=\n"
     ]
    }
   ],
   "source": [
    "# Complete the function\n",
    "def oddChar(input):\n",
    "    cDict = {}\n",
    "    for e in input:\n",
    "        if(e in cDict):\n",
    "            cDict[e] += 1\n",
    "        else:\n",
    "            cDict[e] = 1\n",
    "    for k in cDict:\n",
    "        if (cDict[k]%2==1):\n",
    "            return k;\n",
    "            \n",
    "\n",
    "if __name__ == '__main__':\n",
    "    s = input()\n",
    "    s_new = oddChar(s)\n",
    "    print(s_new)"
   ]
  },
  {
   "cell_type": "code",
   "execution_count": null,
   "metadata": {},
   "outputs": [],
   "source": []
  }
 ],
 "metadata": {
  "kernelspec": {
   "display_name": "Python 3",
   "language": "python",
   "name": "python3"
  },
  "language_info": {
   "codemirror_mode": {
    "name": "ipython",
    "version": 3
   },
   "file_extension": ".py",
   "mimetype": "text/x-python",
   "name": "python",
   "nbconvert_exporter": "python",
   "pygments_lexer": "ipython3",
   "version": "3.7.2"
  }
 },
 "nbformat": 4,
 "nbformat_minor": 2
}
